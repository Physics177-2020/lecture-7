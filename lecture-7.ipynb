{
 "cells": [
  {
   "cell_type": "markdown",
   "metadata": {},
   "source": [
    "# Lecture 7: Runge-Kutta method\n",
    "\n",
    "The [Runge-Kutta method](https://en.wikipedia.org/wiki/Runge%E2%80%93Kutta_methods) works by interpolating between discretized time points to (typically) better estimate the change in a function as the independent variable(s) change. Standard numerical routines often use a fourth-order approximation, but here we will follow the second order method. Given\n",
    "\n",
    "$$ \\frac{d x}{d t} = f(x, t)\\,, $$\n",
    "\n",
    "numerical integration of $x(t)$ by the second order Runge-Kutta method proceeds according to\n",
    "\n",
    "$$\n",
    "\\begin{align} \\begin{aligned}\n",
    "k_1 &= \\frac{\\Delta t}{2} \\; f(x, t)\\,,\\\\\n",
    "k_2 &= \\Delta t \\; f\\left(x + k_1, t + \\frac{\\Delta t}{2}\\right)\\,,\\\\\n",
    "x(t + \\Delta t) &= x(t) + k_2\\,. \n",
    "\\end{aligned} \\end{align}\n",
    "$$\n",
    "\n",
    "Let's write a function to numerically integrate a differential equation using the second order Runge-Kutta method."
   ]
  },
  {
   "cell_type": "code",
   "execution_count": null,
   "metadata": {},
   "outputs": [],
   "source": [
    "import numpy as np\n",
    "import seaborn as sns\n",
    "import matplotlib.pyplot as plt\n",
    "\n",
    "# Define the integration function using the second order Runge-Kutta method below\n",
    "\n"
   ]
  },
  {
   "cell_type": "code",
   "execution_count": null,
   "metadata": {},
   "outputs": [],
   "source": [
    "\n",
    "\n",
    "\n",
    "\n",
    "\n",
    "\n",
    "\n",
    "\n",
    "\n",
    "\n",
    "\n",
    "\n",
    "\n",
    "\n",
    "\n",
    "\n",
    "\n",
    "\n",
    "\n",
    "\n",
    "\n",
    "\n"
   ]
  },
  {
   "cell_type": "markdown",
   "metadata": {},
   "source": [
    "### Visualizing the Runge-Kutta method\n",
    "\n",
    "To examine the output in a simple case, let's return to the differential equation\n",
    "\n",
    "$$ \\frac{dx}{dt} = -x^3 + 0.1\\,$$\n",
    "\n",
    "that we considered last time, starting again with the initial condition $x(0) = 0$. How does the result look as we change the number of steps?"
   ]
  },
  {
   "cell_type": "code",
   "execution_count": null,
   "metadata": {},
   "outputs": [],
   "source": [
    "# Define the function and perform the integration\n",
    "\n",
    "sns.lineplot(, )\n",
    "plt.xlabel(r'$t$')\n",
    "plt.ylabel(r'$x$')\n",
    "plt.title(\"Integration with the Runge-Kutta method\");"
   ]
  },
  {
   "cell_type": "code",
   "execution_count": null,
   "metadata": {},
   "outputs": [],
   "source": [
    "\n",
    "\n",
    "\n",
    "\n",
    "\n",
    "\n",
    "\n",
    "\n",
    "\n",
    "\n",
    "\n",
    "\n",
    "\n",
    "\n",
    "\n",
    "\n",
    "\n",
    "\n",
    "\n",
    "\n",
    "\n",
    "\n"
   ]
  },
  {
   "cell_type": "markdown",
   "metadata": {},
   "source": [
    "### Applying the Runge-Kutta method to a real example\n",
    "\n",
    "This problem is taken from exercise 8.1 in Newman's *[Computational Physics](http://www-personal.umich.edu/~mejn/cp/)* textbook. Consider the following electrical circuit.\n",
    "\n",
    "<img src=\"lowpass.png\" width=\"400\"/>\n",
    "\n",
    "Assuming that the output load has high impedance, so that current flow out can be neglected, we have the following dynamics for this system,\n",
    "\n",
    "$$ \n",
    "\\begin{align} \\begin{aligned}\n",
    "I R &= V_{in} - V_{out}\\,,\\\\\n",
    "Q   &= C V_{out}\\,,\\\\\n",
    "I   &= \\frac{d Q}{d t}\\,. \n",
    "\\end{aligned} \\end{align}\n",
    "$$\n",
    "\n",
    "These expressions simplify to\n",
    "\n",
    "$$ \\frac{d V_{out}}{d t} = \\frac{1}{RC} \\left(V_{in} - V_{out}\\right)\\,. $$\n",
    "\n",
    "Let's define a function to generate a square wave for the input voltage."
   ]
  },
  {
   "cell_type": "code",
   "execution_count": null,
   "metadata": {},
   "outputs": [],
   "source": [
    "def v_in(t):\n",
    "    return 1 - ( 2 * (np.floor(2*t)%2) )\n",
    "\n",
    "t = np.arange(0, 4, 0.01)\n",
    "sns.lineplot(t, v_in(t))\n",
    "plt.xlabel(r'$t$')\n",
    "plt.ylabel(r'$V_{in}$');"
   ]
  },
  {
   "cell_type": "code",
   "execution_count": null,
   "metadata": {},
   "outputs": [],
   "source": [
    "\n",
    "\n",
    "\n",
    "\n",
    "\n",
    "\n",
    "\n",
    "\n",
    "\n",
    "\n",
    "\n",
    "\n",
    "\n",
    "\n",
    "\n",
    "\n",
    "\n",
    "\n",
    "\n",
    "\n",
    "\n",
    "\n"
   ]
  },
  {
   "cell_type": "markdown",
   "metadata": {},
   "source": [
    "**Exercise**: Using the Runge-Kutta method, make plots of the output voltage, starting with $V_{out}=0$, from $t=0$ to $t=5$ with this input function and with $RC = 0.01$, $0.1$, $1$, and $10$. Note that the value of $\\Delta t$, or equivalently the number of steps to use, might need to be chosen carefully.\n",
    "\n",
    "This circuit is a type of low-pass filter. Based on your plots, does the name make sense?\n",
    "\n",
    "*Hint*: What units does $RC$ have? You can see this from the differential equation above."
   ]
  },
  {
   "cell_type": "code",
   "execution_count": null,
   "metadata": {},
   "outputs": [],
   "source": [
    "# Set up the integral using different values of RC\n",
    "\n",
    "RC_values = [0.01, 0.1, 1, 10]\n",
    "\n",
    "t_arrays = [] # Fill this in!\n",
    "v_arrays = [] # Generate this!\n",
    "\n",
    "# To fill in the arrays, it might be helpful to iterate over the RC values\n",
    "for rc in RC_values:\n",
    "\n",
    "    # You might also redefine the derivative of V_out here\n",
    "    def v_out(v, t):\n",
    "        return # Something here\n",
    "\n",
    "# Plot the output\n",
    "\n",
    "sns.lineplot(t_arrays[0], v_arrays[0], label=r'$RC = 0.01$')\n",
    "sns.lineplot(t_arrays[1], v_arrays[1], label=r'$RC = 0.1$')\n",
    "sns.lineplot(t_arrays[2], v_arrays[2], label=r'$RC = 1$')\n",
    "sns.lineplot(t_arrays[3], v_arrays[3], label=r'$RC = 10$')\n",
    "\n",
    "plt.xlabel(r'$t$')\n",
    "plt.ylabel(r'$V_{out}$');"
   ]
  },
  {
   "cell_type": "code",
   "execution_count": null,
   "metadata": {},
   "outputs": [],
   "source": []
  }
 ],
 "metadata": {
  "kernelspec": {
   "display_name": "Python 3",
   "language": "python",
   "name": "python3"
  },
  "language_info": {
   "codemirror_mode": {
    "name": "ipython",
    "version": 3
   },
   "file_extension": ".py",
   "mimetype": "text/x-python",
   "name": "python",
   "nbconvert_exporter": "python",
   "pygments_lexer": "ipython3",
   "version": "3.7.7"
  }
 },
 "nbformat": 4,
 "nbformat_minor": 2
}
